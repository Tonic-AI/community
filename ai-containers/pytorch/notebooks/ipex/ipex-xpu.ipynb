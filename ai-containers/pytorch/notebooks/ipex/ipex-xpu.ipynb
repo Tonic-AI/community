{
 "cells": [
  {
   "cell_type": "markdown",
   "metadata": {},
   "source": [
    "Intel Extension for PyTorch"
   ]
  },
  {
   "cell_type": "code",
   "execution_count": null,
   "metadata": {},
   "outputs": [],
   "source": [
    "import torch\n",
    "import sys\n",
    "print(torch.device('xpu'))\n"
   ]
  },
  {
   "cell_type": "code",
   "execution_count": null,
   "metadata": {},
   "outputs": [],
   "source": [
    "import intel_extension_for_pytorch as ipex\n",
    "print(ipex.xpu.is_available())\n",
    "if (not ipex.xpu.is_available()):\n",
    "    print('Intel GPU not detected. Please install GPU with compatible drivers')\n",
    "    sys.exit(1)\n",
    "print(ipex.xpu.has_onemkl())\n",
    "print(torch.__version__); print(ipex.__version__)\n",
    "[print(f'[{i}]: {ipex.xpu.get_device_properties(i)}') for i in range(ipex.xpu.device_count())]\n"
   ]
  }
 ],
 "metadata": {
  "language_info": {
   "name": "python"
  },
  "orig_nbformat": 4
 },
 "nbformat": 4,
 "nbformat_minor": 2
}
